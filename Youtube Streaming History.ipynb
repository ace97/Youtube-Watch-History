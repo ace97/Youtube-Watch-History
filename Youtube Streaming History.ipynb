{
 "cells": [
  {
   "cell_type": "code",
   "execution_count": 1,
   "id": "f53130ff",
   "metadata": {},
   "outputs": [],
   "source": [
    "#%matplotlib widget"
   ]
  },
  {
   "cell_type": "code",
   "execution_count": 2,
   "id": "00026c65",
   "metadata": {},
   "outputs": [],
   "source": [
    "import calendar\n",
    "import json\n",
    "import pandas as pd\n",
    "import numpy as np\n",
    "import seaborn as sns \n",
    "import matplotlib.pyplot as plt\n",
    "from datetime import timedelta\n",
    "\n",
    "\n",
    "import warnings\n",
    "warnings.filterwarnings(\"ignore\")"
   ]
  },
  {
   "cell_type": "code",
   "execution_count": 3,
   "id": "8152fe45",
   "metadata": {},
   "outputs": [],
   "source": [
    "file = open(\"watch-history.json\", errors='replace')"
   ]
  },
  {
   "cell_type": "code",
   "execution_count": 4,
   "id": "170b9650",
   "metadata": {},
   "outputs": [],
   "source": [
    "text = file.read()"
   ]
  },
  {
   "cell_type": "code",
   "execution_count": 5,
   "id": "ccc43534",
   "metadata": {},
   "outputs": [
    {
     "data": {
      "text/plain": [
       "str"
      ]
     },
     "execution_count": 5,
     "metadata": {},
     "output_type": "execute_result"
    }
   ],
   "source": [
    "type(text)"
   ]
  },
  {
   "cell_type": "code",
   "execution_count": 6,
   "id": "9061841b",
   "metadata": {},
   "outputs": [],
   "source": [
    "j=json.loads(text)"
   ]
  },
  {
   "cell_type": "code",
   "execution_count": 7,
   "id": "3a0d3331",
   "metadata": {},
   "outputs": [],
   "source": [
    "streaming_history = pd.DataFrame(j)"
   ]
  },
  {
   "cell_type": "code",
   "execution_count": 8,
   "id": "86e3a7a9",
   "metadata": {},
   "outputs": [
    {
     "data": {
      "text/html": [
       "<div>\n",
       "<style scoped>\n",
       "    .dataframe tbody tr th:only-of-type {\n",
       "        vertical-align: middle;\n",
       "    }\n",
       "\n",
       "    .dataframe tbody tr th {\n",
       "        vertical-align: top;\n",
       "    }\n",
       "\n",
       "    .dataframe thead th {\n",
       "        text-align: right;\n",
       "    }\n",
       "</style>\n",
       "<table border=\"1\" class=\"dataframe\">\n",
       "  <thead>\n",
       "    <tr style=\"text-align: right;\">\n",
       "      <th></th>\n",
       "      <th>header</th>\n",
       "      <th>title</th>\n",
       "      <th>titleUrl</th>\n",
       "      <th>subtitles</th>\n",
       "      <th>time</th>\n",
       "      <th>products</th>\n",
       "      <th>activityControls</th>\n",
       "    </tr>\n",
       "  </thead>\n",
       "  <tbody>\n",
       "    <tr>\n",
       "      <th>0</th>\n",
       "      <td>YouTube</td>\n",
       "      <td>Watched Rahul Subramanian | Crowd work Special...</td>\n",
       "      <td>https://www.youtube.com/watch?v=7dRjFxqCCQk</td>\n",
       "      <td>[{'name': 'Random Chikibum', 'url': 'https://w...</td>\n",
       "      <td>2023-05-04T23:34:00.079Z</td>\n",
       "      <td>[YouTube]</td>\n",
       "      <td>[YouTube watch history]</td>\n",
       "    </tr>\n",
       "    <tr>\n",
       "      <th>1</th>\n",
       "      <td>YouTube</td>\n",
       "      <td>Watched Nvidia Said No.. I said YES! - The 100...</td>\n",
       "      <td>https://www.youtube.com/watch?v=vz-rpRYFhRo</td>\n",
       "      <td>[{'name': 'Linus Tech Tips', 'url': 'https://w...</td>\n",
       "      <td>2023-05-04T21:45:23.215Z</td>\n",
       "      <td>[YouTube]</td>\n",
       "      <td>[YouTube watch history]</td>\n",
       "    </tr>\n",
       "    <tr>\n",
       "      <th>2</th>\n",
       "      <td>YouTube</td>\n",
       "      <td>Watched Biswa Kalyan Rath | Mood Kharaab | New...</td>\n",
       "      <td>https://www.youtube.com/watch?v=V_c-oLhaR_4</td>\n",
       "      <td>[{'name': 'Biswa Kalyan Rath', 'url': 'https:/...</td>\n",
       "      <td>2023-05-04T21:43:48.572Z</td>\n",
       "      <td>[YouTube]</td>\n",
       "      <td>[YouTube watch history]</td>\n",
       "    </tr>\n",
       "    <tr>\n",
       "      <th>3</th>\n",
       "      <td>YouTube</td>\n",
       "      <td>Watched Lucky Lefty OR: I Lost My Right Nut An...</td>\n",
       "      <td>https://www.youtube.com/watch?v=A2Rdh82XGrY</td>\n",
       "      <td>[{'name': 'Nimesh Patel', 'url': 'https://www....</td>\n",
       "      <td>2023-05-03T03:09:38.598Z</td>\n",
       "      <td>[YouTube]</td>\n",
       "      <td>[YouTube watch history]</td>\n",
       "    </tr>\n",
       "    <tr>\n",
       "      <th>4</th>\n",
       "      <td>YouTube</td>\n",
       "      <td>Watched Is A Runaway Black Hole Creating A Tra...</td>\n",
       "      <td>https://www.youtube.com/watch?v=UYVUPd3_Fus</td>\n",
       "      <td>[{'name': 'StarTalk', 'url': 'https://www.yout...</td>\n",
       "      <td>2023-05-03T03:09:24.708Z</td>\n",
       "      <td>[YouTube]</td>\n",
       "      <td>[YouTube watch history]</td>\n",
       "    </tr>\n",
       "  </tbody>\n",
       "</table>\n",
       "</div>"
      ],
      "text/plain": [
       "    header                                              title  \\\n",
       "0  YouTube  Watched Rahul Subramanian | Crowd work Special...   \n",
       "1  YouTube  Watched Nvidia Said No.. I said YES! - The 100...   \n",
       "2  YouTube  Watched Biswa Kalyan Rath | Mood Kharaab | New...   \n",
       "3  YouTube  Watched Lucky Lefty OR: I Lost My Right Nut An...   \n",
       "4  YouTube  Watched Is A Runaway Black Hole Creating A Tra...   \n",
       "\n",
       "                                      titleUrl  \\\n",
       "0  https://www.youtube.com/watch?v=7dRjFxqCCQk   \n",
       "1  https://www.youtube.com/watch?v=vz-rpRYFhRo   \n",
       "2  https://www.youtube.com/watch?v=V_c-oLhaR_4   \n",
       "3  https://www.youtube.com/watch?v=A2Rdh82XGrY   \n",
       "4  https://www.youtube.com/watch?v=UYVUPd3_Fus   \n",
       "\n",
       "                                           subtitles  \\\n",
       "0  [{'name': 'Random Chikibum', 'url': 'https://w...   \n",
       "1  [{'name': 'Linus Tech Tips', 'url': 'https://w...   \n",
       "2  [{'name': 'Biswa Kalyan Rath', 'url': 'https:/...   \n",
       "3  [{'name': 'Nimesh Patel', 'url': 'https://www....   \n",
       "4  [{'name': 'StarTalk', 'url': 'https://www.yout...   \n",
       "\n",
       "                       time   products         activityControls  \n",
       "0  2023-05-04T23:34:00.079Z  [YouTube]  [YouTube watch history]  \n",
       "1  2023-05-04T21:45:23.215Z  [YouTube]  [YouTube watch history]  \n",
       "2  2023-05-04T21:43:48.572Z  [YouTube]  [YouTube watch history]  \n",
       "3  2023-05-03T03:09:38.598Z  [YouTube]  [YouTube watch history]  \n",
       "4  2023-05-03T03:09:24.708Z  [YouTube]  [YouTube watch history]  "
      ]
     },
     "execution_count": 8,
     "metadata": {},
     "output_type": "execute_result"
    }
   ],
   "source": [
    "\n",
    "streaming_history.head(5)"
   ]
  },
  {
   "cell_type": "code",
   "execution_count": 9,
   "id": "f7e639e4",
   "metadata": {},
   "outputs": [],
   "source": [
    "streaming_history.time = pd.to_datetime(streaming_history.time)"
   ]
  },
  {
   "cell_type": "code",
   "execution_count": 10,
   "id": "1e210aae",
   "metadata": {},
   "outputs": [
    {
     "data": {
      "text/html": [
       "<div>\n",
       "<style scoped>\n",
       "    .dataframe tbody tr th:only-of-type {\n",
       "        vertical-align: middle;\n",
       "    }\n",
       "\n",
       "    .dataframe tbody tr th {\n",
       "        vertical-align: top;\n",
       "    }\n",
       "\n",
       "    .dataframe thead th {\n",
       "        text-align: right;\n",
       "    }\n",
       "</style>\n",
       "<table border=\"1\" class=\"dataframe\">\n",
       "  <thead>\n",
       "    <tr style=\"text-align: right;\">\n",
       "      <th></th>\n",
       "      <th>header</th>\n",
       "      <th>title</th>\n",
       "      <th>titleUrl</th>\n",
       "      <th>subtitles</th>\n",
       "      <th>time</th>\n",
       "      <th>products</th>\n",
       "      <th>activityControls</th>\n",
       "    </tr>\n",
       "  </thead>\n",
       "  <tbody>\n",
       "    <tr>\n",
       "      <th>0</th>\n",
       "      <td>YouTube</td>\n",
       "      <td>Watched Rahul Subramanian | Crowd work Special...</td>\n",
       "      <td>https://www.youtube.com/watch?v=7dRjFxqCCQk</td>\n",
       "      <td>[{'name': 'Random Chikibum', 'url': 'https://w...</td>\n",
       "      <td>2023-05-04 23:34:00.079000+00:00</td>\n",
       "      <td>[YouTube]</td>\n",
       "      <td>[YouTube watch history]</td>\n",
       "    </tr>\n",
       "    <tr>\n",
       "      <th>1</th>\n",
       "      <td>YouTube</td>\n",
       "      <td>Watched Nvidia Said No.. I said YES! - The 100...</td>\n",
       "      <td>https://www.youtube.com/watch?v=vz-rpRYFhRo</td>\n",
       "      <td>[{'name': 'Linus Tech Tips', 'url': 'https://w...</td>\n",
       "      <td>2023-05-04 21:45:23.215000+00:00</td>\n",
       "      <td>[YouTube]</td>\n",
       "      <td>[YouTube watch history]</td>\n",
       "    </tr>\n",
       "    <tr>\n",
       "      <th>2</th>\n",
       "      <td>YouTube</td>\n",
       "      <td>Watched Biswa Kalyan Rath | Mood Kharaab | New...</td>\n",
       "      <td>https://www.youtube.com/watch?v=V_c-oLhaR_4</td>\n",
       "      <td>[{'name': 'Biswa Kalyan Rath', 'url': 'https:/...</td>\n",
       "      <td>2023-05-04 21:43:48.572000+00:00</td>\n",
       "      <td>[YouTube]</td>\n",
       "      <td>[YouTube watch history]</td>\n",
       "    </tr>\n",
       "    <tr>\n",
       "      <th>3</th>\n",
       "      <td>YouTube</td>\n",
       "      <td>Watched Lucky Lefty OR: I Lost My Right Nut An...</td>\n",
       "      <td>https://www.youtube.com/watch?v=A2Rdh82XGrY</td>\n",
       "      <td>[{'name': 'Nimesh Patel', 'url': 'https://www....</td>\n",
       "      <td>2023-05-03 03:09:38.598000+00:00</td>\n",
       "      <td>[YouTube]</td>\n",
       "      <td>[YouTube watch history]</td>\n",
       "    </tr>\n",
       "    <tr>\n",
       "      <th>4</th>\n",
       "      <td>YouTube</td>\n",
       "      <td>Watched Is A Runaway Black Hole Creating A Tra...</td>\n",
       "      <td>https://www.youtube.com/watch?v=UYVUPd3_Fus</td>\n",
       "      <td>[{'name': 'StarTalk', 'url': 'https://www.yout...</td>\n",
       "      <td>2023-05-03 03:09:24.708000+00:00</td>\n",
       "      <td>[YouTube]</td>\n",
       "      <td>[YouTube watch history]</td>\n",
       "    </tr>\n",
       "    <tr>\n",
       "      <th>...</th>\n",
       "      <td>...</td>\n",
       "      <td>...</td>\n",
       "      <td>...</td>\n",
       "      <td>...</td>\n",
       "      <td>...</td>\n",
       "      <td>...</td>\n",
       "      <td>...</td>\n",
       "    </tr>\n",
       "    <tr>\n",
       "      <th>4775</th>\n",
       "      <td>YouTube</td>\n",
       "      <td>Watched I PUT TENZ ON MY BACK. HARD CARRY MODE...</td>\n",
       "      <td>https://www.youtube.com/watch?v=EQbdDLWs-4U</td>\n",
       "      <td>[{'name': 'ShahZaM', 'url': 'https://www.youtu...</td>\n",
       "      <td>2022-04-06 03:59:37.555000+00:00</td>\n",
       "      <td>[YouTube]</td>\n",
       "      <td>[YouTube watch history]</td>\n",
       "    </tr>\n",
       "    <tr>\n",
       "      <th>4776</th>\n",
       "      <td>YouTube</td>\n",
       "      <td>Watched 11 minutes of Shroud playing against o...</td>\n",
       "      <td>https://www.youtube.com/watch?v=WBBedUaEU2o</td>\n",
       "      <td>[{'name': 'Shroud', 'url': 'https://www.youtub...</td>\n",
       "      <td>2022-04-06 01:31:44.390000+00:00</td>\n",
       "      <td>[YouTube]</td>\n",
       "      <td>[YouTube watch history]</td>\n",
       "    </tr>\n",
       "    <tr>\n",
       "      <th>4777</th>\n",
       "      <td>YouTube</td>\n",
       "      <td>Watched I've never felt this way before - $60 ...</td>\n",
       "      <td>https://www.youtube.com/watch?v=jGyHT0t-mtw</td>\n",
       "      <td>[{'name': 'Linus Tech Tips', 'url': 'https://w...</td>\n",
       "      <td>2022-04-06 00:46:50.131000+00:00</td>\n",
       "      <td>[YouTube]</td>\n",
       "      <td>[YouTube watch history]</td>\n",
       "    </tr>\n",
       "    <tr>\n",
       "      <th>4778</th>\n",
       "      <td>YouTube</td>\n",
       "      <td>Watched I Tried to Break a Million Dollar Comp...</td>\n",
       "      <td>https://www.youtube.com/watch?v=ZDtaanCENbc</td>\n",
       "      <td>[{'name': 'Linus Tech Tips', 'url': 'https://w...</td>\n",
       "      <td>2022-04-06 00:06:52.861000+00:00</td>\n",
       "      <td>[YouTube]</td>\n",
       "      <td>[YouTube watch history]</td>\n",
       "    </tr>\n",
       "    <tr>\n",
       "      <th>4779</th>\n",
       "      <td>YouTube</td>\n",
       "      <td>Watched Sterling K. Brown Explains His \"No Gym...</td>\n",
       "      <td>https://www.youtube.com/watch?v=PVr9fU2Kgjs</td>\n",
       "      <td>[{'name': 'Men's Health', 'url': 'https://www....</td>\n",
       "      <td>2022-04-05 22:20:16.371000+00:00</td>\n",
       "      <td>[YouTube]</td>\n",
       "      <td>[YouTube watch history]</td>\n",
       "    </tr>\n",
       "  </tbody>\n",
       "</table>\n",
       "<p>4780 rows × 7 columns</p>\n",
       "</div>"
      ],
      "text/plain": [
       "       header                                              title  \\\n",
       "0     YouTube  Watched Rahul Subramanian | Crowd work Special...   \n",
       "1     YouTube  Watched Nvidia Said No.. I said YES! - The 100...   \n",
       "2     YouTube  Watched Biswa Kalyan Rath | Mood Kharaab | New...   \n",
       "3     YouTube  Watched Lucky Lefty OR: I Lost My Right Nut An...   \n",
       "4     YouTube  Watched Is A Runaway Black Hole Creating A Tra...   \n",
       "...       ...                                                ...   \n",
       "4775  YouTube  Watched I PUT TENZ ON MY BACK. HARD CARRY MODE...   \n",
       "4776  YouTube  Watched 11 minutes of Shroud playing against o...   \n",
       "4777  YouTube  Watched I've never felt this way before - $60 ...   \n",
       "4778  YouTube  Watched I Tried to Break a Million Dollar Comp...   \n",
       "4779  YouTube  Watched Sterling K. Brown Explains His \"No Gym...   \n",
       "\n",
       "                                         titleUrl  \\\n",
       "0     https://www.youtube.com/watch?v=7dRjFxqCCQk   \n",
       "1     https://www.youtube.com/watch?v=vz-rpRYFhRo   \n",
       "2     https://www.youtube.com/watch?v=V_c-oLhaR_4   \n",
       "3     https://www.youtube.com/watch?v=A2Rdh82XGrY   \n",
       "4     https://www.youtube.com/watch?v=UYVUPd3_Fus   \n",
       "...                                           ...   \n",
       "4775  https://www.youtube.com/watch?v=EQbdDLWs-4U   \n",
       "4776  https://www.youtube.com/watch?v=WBBedUaEU2o   \n",
       "4777  https://www.youtube.com/watch?v=jGyHT0t-mtw   \n",
       "4778  https://www.youtube.com/watch?v=ZDtaanCENbc   \n",
       "4779  https://www.youtube.com/watch?v=PVr9fU2Kgjs   \n",
       "\n",
       "                                              subtitles  \\\n",
       "0     [{'name': 'Random Chikibum', 'url': 'https://w...   \n",
       "1     [{'name': 'Linus Tech Tips', 'url': 'https://w...   \n",
       "2     [{'name': 'Biswa Kalyan Rath', 'url': 'https:/...   \n",
       "3     [{'name': 'Nimesh Patel', 'url': 'https://www....   \n",
       "4     [{'name': 'StarTalk', 'url': 'https://www.yout...   \n",
       "...                                                 ...   \n",
       "4775  [{'name': 'ShahZaM', 'url': 'https://www.youtu...   \n",
       "4776  [{'name': 'Shroud', 'url': 'https://www.youtub...   \n",
       "4777  [{'name': 'Linus Tech Tips', 'url': 'https://w...   \n",
       "4778  [{'name': 'Linus Tech Tips', 'url': 'https://w...   \n",
       "4779  [{'name': 'Men's Health', 'url': 'https://www....   \n",
       "\n",
       "                                 time   products         activityControls  \n",
       "0    2023-05-04 23:34:00.079000+00:00  [YouTube]  [YouTube watch history]  \n",
       "1    2023-05-04 21:45:23.215000+00:00  [YouTube]  [YouTube watch history]  \n",
       "2    2023-05-04 21:43:48.572000+00:00  [YouTube]  [YouTube watch history]  \n",
       "3    2023-05-03 03:09:38.598000+00:00  [YouTube]  [YouTube watch history]  \n",
       "4    2023-05-03 03:09:24.708000+00:00  [YouTube]  [YouTube watch history]  \n",
       "...                               ...        ...                      ...  \n",
       "4775 2022-04-06 03:59:37.555000+00:00  [YouTube]  [YouTube watch history]  \n",
       "4776 2022-04-06 01:31:44.390000+00:00  [YouTube]  [YouTube watch history]  \n",
       "4777 2022-04-06 00:46:50.131000+00:00  [YouTube]  [YouTube watch history]  \n",
       "4778 2022-04-06 00:06:52.861000+00:00  [YouTube]  [YouTube watch history]  \n",
       "4779 2022-04-05 22:20:16.371000+00:00  [YouTube]  [YouTube watch history]  \n",
       "\n",
       "[4780 rows x 7 columns]"
      ]
     },
     "execution_count": 10,
     "metadata": {},
     "output_type": "execute_result"
    }
   ],
   "source": [
    "streaming_history"
   ]
  },
  {
   "cell_type": "code",
   "execution_count": 11,
   "id": "d106f444",
   "metadata": {},
   "outputs": [],
   "source": [
    "streaming_history[\"date\"] = streaming_history[\"time\"].dt.floor('d')"
   ]
  },
  {
   "cell_type": "code",
   "execution_count": 12,
   "id": "4cb8ad79",
   "metadata": {},
   "outputs": [],
   "source": [
    "#saving yt history as csv file\n",
    "#streaming_history.to_csv(\"watch-history.csv\",index=False)"
   ]
  },
  {
   "cell_type": "code",
   "execution_count": 13,
   "id": "0dda180d",
   "metadata": {},
   "outputs": [],
   "source": [
    "by_date = streaming_history.groupby(\"date\")[[\"title\"]].count()\n",
    "by_date = by_date.sort_index()"
   ]
  },
  {
   "cell_type": "code",
   "execution_count": 14,
   "id": "fd9d35b2",
   "metadata": {},
   "outputs": [
    {
     "data": {
      "text/plain": [
       "DatetimeIndex(['2022-04-05 00:00:00+00:00', '2022-04-06 00:00:00+00:00',\n",
       "               '2022-04-07 00:00:00+00:00', '2022-04-08 00:00:00+00:00',\n",
       "               '2022-04-09 00:00:00+00:00', '2022-04-10 00:00:00+00:00',\n",
       "               '2022-04-11 00:00:00+00:00', '2022-04-12 00:00:00+00:00',\n",
       "               '2022-04-13 00:00:00+00:00', '2022-04-14 00:00:00+00:00',\n",
       "               ...\n",
       "               '2023-04-24 00:00:00+00:00', '2023-04-25 00:00:00+00:00',\n",
       "               '2023-04-26 00:00:00+00:00', '2023-04-27 00:00:00+00:00',\n",
       "               '2023-04-28 00:00:00+00:00', '2023-04-29 00:00:00+00:00',\n",
       "               '2023-05-01 00:00:00+00:00', '2023-05-02 00:00:00+00:00',\n",
       "               '2023-05-03 00:00:00+00:00', '2023-05-04 00:00:00+00:00'],\n",
       "              dtype='datetime64[ns, UTC]', name='date', length=380, freq=None)"
      ]
     },
     "execution_count": 14,
     "metadata": {},
     "output_type": "execute_result"
    }
   ],
   "source": [
    "by_date.index"
   ]
  },
  {
   "cell_type": "code",
   "execution_count": 15,
   "id": "609db853",
   "metadata": {},
   "outputs": [],
   "source": [
    "by_date[\"weekday\"] = by_date.index.weekday\n",
    "by_date[\"week\"] = by_date.index.week"
   ]
  },
  {
   "cell_type": "code",
   "execution_count": 16,
   "id": "f6345ee9",
   "metadata": {},
   "outputs": [
    {
     "data": {
      "text/plain": [
       "4780"
      ]
     },
     "execution_count": 16,
     "metadata": {},
     "output_type": "execute_result"
    }
   ],
   "source": [
    "by_date.title.sum()"
   ]
  },
  {
   "cell_type": "code",
   "execution_count": 17,
   "id": "9c049a94",
   "metadata": {},
   "outputs": [
    {
     "data": {
      "text/plain": [
       "10587"
      ]
     },
     "execution_count": 17,
     "metadata": {},
     "output_type": "execute_result"
    }
   ],
   "source": [
    "week = 0\n",
    "prev_week = by_date.iloc[0][\"week\"]\n",
    "continuous_week = np.zeros(len(by_date)).astype(int)\n",
    "sunday_dates = []\n",
    "for i, (_, row) in enumerate(by_date.iterrows()):\n",
    "    if row[\"week\"] != prev_week:\n",
    "        week += 1\n",
    "        prev_week = row[\"week\"]\n",
    "    continuous_week[i] = week\n",
    "by_date[\"continuous_week\"] = continuous_week \n",
    "continuous_week.sum()"
   ]
  },
  {
   "cell_type": "code",
   "execution_count": 18,
   "id": "70404f13",
   "metadata": {},
   "outputs": [],
   "source": [
    "videos = np.full((7, continuous_week.max()+1), np.nan)\n",
    "\n",
    "for index, row in by_date.iterrows():\n",
    "    videos[row[\"weekday\"]][row[\"continuous_week\"]] = row[\"title\"]"
   ]
  },
  {
   "cell_type": "code",
   "execution_count": 19,
   "id": "157db131",
   "metadata": {},
   "outputs": [
    {
     "data": {
      "text/plain": [
       "<Axes: >"
      ]
     },
     "execution_count": 19,
     "metadata": {},
     "output_type": "execute_result"
    },
    {
     "data": {
      "image/png": "[encoded data removed]",
      "text/plain": [
       "<Figure size 2000x500 with 2 Axes>"
      ]
     },
     "metadata": {},
     "output_type": "display_data"
    }
   ],
   "source": [
    "fig = plt.figure(figsize=(20,5))\n",
    "ax = plt.subplot()\n",
    "mask = np.isnan(videos)\n",
    "sns.heatmap(videos, ax = ax)"
   ]
  },
  {
   "cell_type": "code",
   "execution_count": 20,
   "id": "6ee450f3",
   "metadata": {},
   "outputs": [],
   "source": [
    "min_date = streaming_history[\"time\"].min()\n",
    "first_monday = min_date - timedelta(min_date.weekday())\n",
    "mons = [first_monday + timedelta(weeks=wk) for wk in range(continuous_week.max())]\n",
    "x_labels = [calendar.month_abbr[mons[0].month]]\n",
    "x_labels.extend([\n",
    "    calendar.month_abbr[mons[i].month] if mons[i-1].month != mons[i].month else \"\" \n",
    "    for i in range(1, len(mons))])\n",
    "x_labels.append(\"\") \n",
    "y_labels = [\"Mon\", \"Tue\", \"Wed\", \"Thur\", \"Fri\", \"Sat\", \"Sun\"]"
   ]
  },
  {
   "cell_type": "code",
   "execution_count": 21,
   "id": "1d0c94e9",
   "metadata": {},
   "outputs": [
    {
     "data": {
      "text/plain": [
       "[Text(0, 0.5, 'Mon'),\n",
       " Text(0, 1.5, 'Tue'),\n",
       " Text(0, 2.5, 'Wed'),\n",
       " Text(0, 3.5, 'Thur'),\n",
       " Text(0, 4.5, 'Fri'),\n",
       " Text(0, 5.5, 'Sat'),\n",
       " Text(0, 6.5, 'Sun')]"
      ]
     },
     "execution_count": 21,
     "metadata": {},
     "output_type": "execute_result"
    },
    {
     "data": {
      "image/png": "[encoded data removed]",
      "text/plain": [
       "<Figure size 2500x1000 with 2 Axes>"
      ]
     },
     "metadata": {},
     "output_type": "display_data"
    }
   ],
   "source": [
    "fig = plt.figure(figsize=(25,10))\n",
    "ax = plt.subplot()\n",
    "\n",
    "ax.set_title(\"My year on Youtube\", fontsize=20,pad=40)\n",
    "ax.xaxis.tick_top()\n",
    "ax.tick_params(axis='both', which='both',length=0)\n",
    "ax.set_facecolor(\"#ebedf0\") \n",
    "fig.patch.set_facecolor('white')\n",
    "\n",
    "\n",
    "sns.heatmap(videos, linewidths=5, linecolor='white', square=True,\n",
    "            mask=np.isnan(videos), cmap=\"Reds\",\n",
    "            vmin=0, vmax=100, cbar=True, ax=ax)\n",
    "\n",
    "\n",
    "ax.set_xticklabels(x_labels, ha=\"left\")\n",
    "ax.set_yticklabels(y_labels, rotation=0)"
   ]
  },
  {
   "cell_type": "code",
   "execution_count": 22,
   "id": "192a112f",
   "metadata": {},
   "outputs": [],
   "source": [
    "#!! streamlit run yt_history.py"
   ]
  },
  {
   "cell_type": "code",
   "execution_count": 23,
   "id": "7053db95",
   "metadata": {},
   "outputs": [],
   "source": [
    "#streaming_history[streaming_history[\"header\"]=='YouTube']"
   ]
  },
  {
   "cell_type": "markdown",
   "id": "dde72962",
   "metadata": {},
   "source": [
    "## Youtube Videos"
   ]
  },
  {
   "cell_type": "code",
   "execution_count": 24,
   "id": "f60e969e",
   "metadata": {},
   "outputs": [
    {
     "data": {
      "text/plain": [
       "3702"
      ]
     },
     "execution_count": 24,
     "metadata": {},
     "output_type": "execute_result"
    }
   ],
   "source": [
    "len(streaming_history.query('header == \"YouTube\"'))"
   ]
  },
  {
   "cell_type": "code",
   "execution_count": 25,
   "id": "74de46c2",
   "metadata": {},
   "outputs": [],
   "source": [
    "#get index of rows where 'header' column is equal to 'Youtube'\n",
    "by_date1 = streaming_history.query('header==\"YouTube\"').groupby(\"date\")[[\"title\"]].count()\n",
    "by_date1 = by_date1.sort_index()"
   ]
  },
  {
   "cell_type": "code",
   "execution_count": 26,
   "id": "63602753",
   "metadata": {},
   "outputs": [],
   "source": [
    "by_date1[\"weekday\"] = by_date1.index.weekday\n",
    "by_date1[\"week\"] = by_date1.index.week"
   ]
  },
  {
   "cell_type": "code",
   "execution_count": 27,
   "id": "3b84153c",
   "metadata": {},
   "outputs": [
    {
     "data": {
      "text/html": [
       "<div>\n",
       "<style scoped>\n",
       "    .dataframe tbody tr th:only-of-type {\n",
       "        vertical-align: middle;\n",
       "    }\n",
       "\n",
       "    .dataframe tbody tr th {\n",
       "        vertical-align: top;\n",
       "    }\n",
       "\n",
       "    .dataframe thead th {\n",
       "        text-align: right;\n",
       "    }\n",
       "</style>\n",
       "<table border=\"1\" class=\"dataframe\">\n",
       "  <thead>\n",
       "    <tr style=\"text-align: right;\">\n",
       "      <th></th>\n",
       "      <th>title</th>\n",
       "      <th>weekday</th>\n",
       "      <th>week</th>\n",
       "    </tr>\n",
       "    <tr>\n",
       "      <th>date</th>\n",
       "      <th></th>\n",
       "      <th></th>\n",
       "      <th></th>\n",
       "    </tr>\n",
       "  </thead>\n",
       "  <tbody>\n",
       "    <tr>\n",
       "      <th>2022-04-05 00:00:00+00:00</th>\n",
       "      <td>1</td>\n",
       "      <td>1</td>\n",
       "      <td>14</td>\n",
       "    </tr>\n",
       "    <tr>\n",
       "      <th>2022-04-06 00:00:00+00:00</th>\n",
       "      <td>9</td>\n",
       "      <td>2</td>\n",
       "      <td>14</td>\n",
       "    </tr>\n",
       "    <tr>\n",
       "      <th>2022-04-07 00:00:00+00:00</th>\n",
       "      <td>6</td>\n",
       "      <td>3</td>\n",
       "      <td>14</td>\n",
       "    </tr>\n",
       "    <tr>\n",
       "      <th>2022-04-08 00:00:00+00:00</th>\n",
       "      <td>2</td>\n",
       "      <td>4</td>\n",
       "      <td>14</td>\n",
       "    </tr>\n",
       "    <tr>\n",
       "      <th>2022-04-09 00:00:00+00:00</th>\n",
       "      <td>7</td>\n",
       "      <td>5</td>\n",
       "      <td>14</td>\n",
       "    </tr>\n",
       "    <tr>\n",
       "      <th>...</th>\n",
       "      <td>...</td>\n",
       "      <td>...</td>\n",
       "      <td>...</td>\n",
       "    </tr>\n",
       "    <tr>\n",
       "      <th>2023-04-29 00:00:00+00:00</th>\n",
       "      <td>2</td>\n",
       "      <td>5</td>\n",
       "      <td>17</td>\n",
       "    </tr>\n",
       "    <tr>\n",
       "      <th>2023-05-01 00:00:00+00:00</th>\n",
       "      <td>4</td>\n",
       "      <td>0</td>\n",
       "      <td>18</td>\n",
       "    </tr>\n",
       "    <tr>\n",
       "      <th>2023-05-02 00:00:00+00:00</th>\n",
       "      <td>13</td>\n",
       "      <td>1</td>\n",
       "      <td>18</td>\n",
       "    </tr>\n",
       "    <tr>\n",
       "      <th>2023-05-03 00:00:00+00:00</th>\n",
       "      <td>31</td>\n",
       "      <td>2</td>\n",
       "      <td>18</td>\n",
       "    </tr>\n",
       "    <tr>\n",
       "      <th>2023-05-04 00:00:00+00:00</th>\n",
       "      <td>3</td>\n",
       "      <td>3</td>\n",
       "      <td>18</td>\n",
       "    </tr>\n",
       "  </tbody>\n",
       "</table>\n",
       "<p>377 rows × 3 columns</p>\n",
       "</div>"
      ],
      "text/plain": [
       "                           title  weekday  week\n",
       "date                                           \n",
       "2022-04-05 00:00:00+00:00      1        1    14\n",
       "2022-04-06 00:00:00+00:00      9        2    14\n",
       "2022-04-07 00:00:00+00:00      6        3    14\n",
       "2022-04-08 00:00:00+00:00      2        4    14\n",
       "2022-04-09 00:00:00+00:00      7        5    14\n",
       "...                          ...      ...   ...\n",
       "2023-04-29 00:00:00+00:00      2        5    17\n",
       "2023-05-01 00:00:00+00:00      4        0    18\n",
       "2023-05-02 00:00:00+00:00     13        1    18\n",
       "2023-05-03 00:00:00+00:00     31        2    18\n",
       "2023-05-04 00:00:00+00:00      3        3    18\n",
       "\n",
       "[377 rows x 3 columns]"
      ]
     },
     "execution_count": 27,
     "metadata": {},
     "output_type": "execute_result"
    }
   ],
   "source": [
    "by_date1\n"
   ]
  },
  {
   "cell_type": "code",
   "execution_count": 28,
   "id": "9714e6e8",
   "metadata": {},
   "outputs": [],
   "source": [
    "week1 = 0\n",
    "prev_week1 = by_date1.iloc[0][\"week\"]\n",
    "continuous_week1 = np.zeros(len(by_date1)).astype(int)\n",
    "for i, (_, row) in enumerate(by_date1.iterrows()):\n",
    "    if row[\"week\"] != prev_week1:\n",
    "        week1 += 1\n",
    "        prev_week1 = row[\"week\"]\n",
    "    continuous_week1[i] = week1\n",
    "by_date1[\"continuous_week\"] = continuous_week1"
   ]
  },
  {
   "cell_type": "code",
   "execution_count": 29,
   "id": "51c65343",
   "metadata": {},
   "outputs": [],
   "source": [
    "videos1 = np.full((7, continuous_week1.max()+1), np.nan)\n",
    "\n",
    "for index1, row in by_date1.iterrows():\n",
    "    videos1[row[\"weekday\"]][row[\"continuous_week\"]] = row[\"title\"]"
   ]
  },
  {
   "cell_type": "code",
   "execution_count": 30,
   "id": "5f3dca40",
   "metadata": {},
   "outputs": [
    {
     "data": {
      "text/plain": [
       "[Text(0, 0.5, 'Mon'),\n",
       " Text(0, 1.5, 'Tue'),\n",
       " Text(0, 2.5, 'Wed'),\n",
       " Text(0, 3.5, 'Thur'),\n",
       " Text(0, 4.5, 'Fri'),\n",
       " Text(0, 5.5, 'Sat'),\n",
       " Text(0, 6.5, 'Sun')]"
      ]
     },
     "execution_count": 30,
     "metadata": {},
     "output_type": "execute_result"
    },
    {
     "data": {
      "image/png": "[encoded data removed]",
      "text/plain": [
       "<Figure size 2500x1000 with 2 Axes>"
      ]
     },
     "metadata": {},
     "output_type": "display_data"
    }
   ],
   "source": [
    "fig1 = plt.figure(figsize=(25,10))\n",
    "ax1 = plt.subplot()\n",
    "\n",
    "ax1.set_title(\"Youtube Videos\", fontsize=20,pad=40)\n",
    "ax1.xaxis.tick_top()\n",
    "ax1.tick_params(axis='both', which='both',length=0)\n",
    "\n",
    "\n",
    "\n",
    "sns.heatmap(videos1, linewidths=5, linecolor='white', square=True,\n",
    "            mask=np.isnan(videos), cmap=\"Reds\",\n",
    "            vmin=0, vmax=100, cbar=True, ax=ax1)\n",
    "\n",
    "\n",
    "ax1.set_xticklabels(x_labels, ha=\"left\")\n",
    "ax1.set_yticklabels(y_labels, rotation=0)"
   ]
  },
  {
   "cell_type": "markdown",
   "id": "234e6477",
   "metadata": {},
   "source": [
    "## Youtube Music"
   ]
  },
  {
   "cell_type": "code",
   "execution_count": 31,
   "id": "7fdc4de2",
   "metadata": {},
   "outputs": [
    {
     "data": {
      "text/plain": [
       "1078"
      ]
     },
     "execution_count": 31,
     "metadata": {},
     "output_type": "execute_result"
    }
   ],
   "source": [
    "len(streaming_history.query('header == \"YouTube Music\"'))"
   ]
  },
  {
   "cell_type": "code",
   "execution_count": 32,
   "id": "15a26f32",
   "metadata": {},
   "outputs": [],
   "source": [
    "#get index of rows where 'header' column is equal to 'Youtube Music'\n",
    "by_date2 = streaming_history.query('header==\"YouTube Music\"').groupby(\"date\")[[\"title\"]].count()\n",
    "by_date2 = by_date2.sort_index()"
   ]
  },
  {
   "cell_type": "code",
   "execution_count": 33,
   "id": "1f42303c",
   "metadata": {},
   "outputs": [],
   "source": [
    "by_date2[\"weekday\"] = by_date2.index.weekday\n",
    "by_date2[\"week\"] = by_date2.index.week"
   ]
  },
  {
   "cell_type": "code",
   "execution_count": 34,
   "id": "03284c40",
   "metadata": {},
   "outputs": [
    {
     "data": {
      "text/html": [
       "<div>\n",
       "<style scoped>\n",
       "    .dataframe tbody tr th:only-of-type {\n",
       "        vertical-align: middle;\n",
       "    }\n",
       "\n",
       "    .dataframe tbody tr th {\n",
       "        vertical-align: top;\n",
       "    }\n",
       "\n",
       "    .dataframe thead th {\n",
       "        text-align: right;\n",
       "    }\n",
       "</style>\n",
       "<table border=\"1\" class=\"dataframe\">\n",
       "  <thead>\n",
       "    <tr style=\"text-align: right;\">\n",
       "      <th></th>\n",
       "      <th>title</th>\n",
       "      <th>weekday</th>\n",
       "      <th>week</th>\n",
       "    </tr>\n",
       "    <tr>\n",
       "      <th>date</th>\n",
       "      <th></th>\n",
       "      <th></th>\n",
       "      <th></th>\n",
       "    </tr>\n",
       "  </thead>\n",
       "  <tbody>\n",
       "    <tr>\n",
       "      <th>2022-04-11 00:00:00+00:00</th>\n",
       "      <td>5</td>\n",
       "      <td>0</td>\n",
       "      <td>15</td>\n",
       "    </tr>\n",
       "    <tr>\n",
       "      <th>2022-04-15 00:00:00+00:00</th>\n",
       "      <td>4</td>\n",
       "      <td>4</td>\n",
       "      <td>15</td>\n",
       "    </tr>\n",
       "    <tr>\n",
       "      <th>2022-04-23 00:00:00+00:00</th>\n",
       "      <td>17</td>\n",
       "      <td>5</td>\n",
       "      <td>16</td>\n",
       "    </tr>\n",
       "    <tr>\n",
       "      <th>2022-04-27 00:00:00+00:00</th>\n",
       "      <td>13</td>\n",
       "      <td>2</td>\n",
       "      <td>17</td>\n",
       "    </tr>\n",
       "    <tr>\n",
       "      <th>2022-05-02 00:00:00+00:00</th>\n",
       "      <td>35</td>\n",
       "      <td>0</td>\n",
       "      <td>18</td>\n",
       "    </tr>\n",
       "    <tr>\n",
       "      <th>...</th>\n",
       "      <td>...</td>\n",
       "      <td>...</td>\n",
       "      <td>...</td>\n",
       "    </tr>\n",
       "    <tr>\n",
       "      <th>2023-04-13 00:00:00+00:00</th>\n",
       "      <td>30</td>\n",
       "      <td>3</td>\n",
       "      <td>15</td>\n",
       "    </tr>\n",
       "    <tr>\n",
       "      <th>2023-04-16 00:00:00+00:00</th>\n",
       "      <td>19</td>\n",
       "      <td>6</td>\n",
       "      <td>15</td>\n",
       "    </tr>\n",
       "    <tr>\n",
       "      <th>2023-04-20 00:00:00+00:00</th>\n",
       "      <td>6</td>\n",
       "      <td>3</td>\n",
       "      <td>16</td>\n",
       "    </tr>\n",
       "    <tr>\n",
       "      <th>2023-04-23 00:00:00+00:00</th>\n",
       "      <td>21</td>\n",
       "      <td>6</td>\n",
       "      <td>16</td>\n",
       "    </tr>\n",
       "    <tr>\n",
       "      <th>2023-04-29 00:00:00+00:00</th>\n",
       "      <td>56</td>\n",
       "      <td>5</td>\n",
       "      <td>17</td>\n",
       "    </tr>\n",
       "  </tbody>\n",
       "</table>\n",
       "<p>103 rows × 3 columns</p>\n",
       "</div>"
      ],
      "text/plain": [
       "                           title  weekday  week\n",
       "date                                           \n",
       "2022-04-11 00:00:00+00:00      5        0    15\n",
       "2022-04-15 00:00:00+00:00      4        4    15\n",
       "2022-04-23 00:00:00+00:00     17        5    16\n",
       "2022-04-27 00:00:00+00:00     13        2    17\n",
       "2022-05-02 00:00:00+00:00     35        0    18\n",
       "...                          ...      ...   ...\n",
       "2023-04-13 00:00:00+00:00     30        3    15\n",
       "2023-04-16 00:00:00+00:00     19        6    15\n",
       "2023-04-20 00:00:00+00:00      6        3    16\n",
       "2023-04-23 00:00:00+00:00     21        6    16\n",
       "2023-04-29 00:00:00+00:00     56        5    17\n",
       "\n",
       "[103 rows x 3 columns]"
      ]
     },
     "execution_count": 34,
     "metadata": {},
     "output_type": "execute_result"
    }
   ],
   "source": [
    "by_date2"
   ]
  },
  {
   "cell_type": "code",
   "execution_count": 35,
   "id": "d70b73ae",
   "metadata": {},
   "outputs": [],
   "source": [
    "week2 = 0\n",
    "prev_week2 = by_date2.iloc[0][\"week\"]\n",
    "continuous_week2 = np.zeros(len(by_date2)).astype(int)\n",
    "for i, (_, row) in enumerate(by_date2.iterrows()):\n",
    "    if row[\"week\"] != prev_week2:\n",
    "        week2 += 1\n",
    "        prev_week2 = row[\"week\"]\n",
    "    continuous_week2[i] = week2\n",
    "by_date2[\"continuous_week\"] = continuous_week2"
   ]
  },
  {
   "cell_type": "code",
   "execution_count": 36,
   "id": "8ce777e9",
   "metadata": {},
   "outputs": [],
   "source": [
    "videos2 = np.full((7, continuous_week2.max()+1), np.nan)\n",
    "\n",
    "for index2, row in by_date2.iterrows():\n",
    "    videos2[row[\"weekday\"]][row[\"continuous_week\"]] = row[\"title\"]"
   ]
  },
  {
   "cell_type": "code",
   "execution_count": 37,
   "id": "15991888",
   "metadata": {},
   "outputs": [
    {
     "data": {
      "text/plain": [
       "43"
      ]
     },
     "execution_count": 37,
     "metadata": {},
     "output_type": "execute_result"
    }
   ],
   "source": [
    "x_labels2 = [calendar.month_abbr[mons[0].month]]\n",
    "x_labels2.extend([\n",
    "    calendar.month_abbr[mons[i].month] if mons[i-1].month != mons[i].month else \"\" \n",
    "    for i in range(1, 43)])\n",
    "#x_labels2.append(\"\") \n",
    "len(x_labels2)"
   ]
  },
  {
   "cell_type": "code",
   "execution_count": 38,
   "id": "e030606e",
   "metadata": {},
   "outputs": [
    {
     "data": {
      "text/plain": [
       "[Text(0, 0.5, 'Mon'),\n",
       " Text(0, 1.5, 'Tue'),\n",
       " Text(0, 2.5, 'Wed'),\n",
       " Text(0, 3.5, 'Thur'),\n",
       " Text(0, 4.5, 'Fri'),\n",
       " Text(0, 5.5, 'Sat'),\n",
       " Text(0, 6.5, 'Sun')]"
      ]
     },
     "execution_count": 38,
     "metadata": {},
     "output_type": "execute_result"
    },
    {
     "data": {
      "image/png": "[encoded data removed]",
      "text/plain": [
       "<Figure size 2500x1000 with 2 Axes>"
      ]
     },
     "metadata": {},
     "output_type": "display_data"
    }
   ],
   "source": [
    "fig2 = plt.figure(figsize=(25,10))\n",
    "ax2 = plt.subplot()\n",
    "\n",
    "ax2.set_title(\"Youtube Music\", fontsize=20,pad=40)\n",
    "ax2.xaxis.tick_top()\n",
    "ax2.tick_params(axis='both', which='both',length=0)\n",
    "\n",
    "\n",
    "\n",
    "sns.heatmap(videos2, linewidths=5, linecolor='white', square=True,\n",
    "            mask=np.isnan(videos2), cmap=\"Reds\",\n",
    "            vmin=0, vmax=100, cbar=True, ax=ax2)\n",
    "\n",
    "\n",
    "ax2.set_xticklabels(x_labels2, ha=\"left\")\n",
    "ax2.set_yticklabels(y_labels, rotation=0)"
   ]
  },
  {
   "cell_type": "code",
   "execution_count": 39,
   "id": "1eef18a6",
   "metadata": {},
   "outputs": [],
   "source": [
    "#!! streamlit run yt_history.py"
   ]
  },
  {
   "cell_type": "code",
   "execution_count": null,
   "id": "985b55a6",
   "metadata": {},
   "outputs": [],
   "source": []
  }
 ],
 "metadata": {
  "kernelspec": {
   "display_name": "Python 3 (ipykernel)",
   "language": "python",
   "name": "python3"
  },
  "language_info": {
   "codemirror_mode": {
    "name": "ipython",
    "version": 3
   },
   "file_extension": ".py",
   "mimetype": "text/x-python",
   "name": "python",
   "nbconvert_exporter": "python",
   "pygments_lexer": "ipython3",
   "version": "3.10.9"
  }
 },
 "nbformat": 4,
 "nbformat_minor": 5
}
